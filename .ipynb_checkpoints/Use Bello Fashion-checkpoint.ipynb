{
 "cells": [
  {
   "cell_type": "code",
   "execution_count": 1,
   "id": "ada169b5",
   "metadata": {},
   "outputs": [
    {
     "name": "stdout",
     "output_type": "stream",
     "text": [
      "Requirement already satisfied: SQLAlchemy in c:\\users\\navan\\anaconda3\\lib\\site-packages (1.4.22)\n",
      "Requirement already satisfied: greenlet!=0.4.17 in c:\\users\\navan\\anaconda3\\lib\\site-packages (from SQLAlchemy) (1.1.1)\n"
     ]
    }
   ],
   "source": [
    "!pip install SQLAlchemy"
   ]
  },
  {
   "cell_type": "code",
   "execution_count": 2,
   "id": "c23d6619",
   "metadata": {},
   "outputs": [],
   "source": [
    "from sqlalchemy import create_engine"
   ]
  },
  {
   "cell_type": "code",
   "execution_count": 3,
   "id": "741b95e0",
   "metadata": {},
   "outputs": [],
   "source": [
    "engine=create_engine('sqlite:///db_bello_customers.db')"
   ]
  },
  {
   "cell_type": "code",
   "execution_count": 5,
   "id": "f88eb0a8",
   "metadata": {},
   "outputs": [
    {
     "data": {
      "text/plain": [
       "sqlalchemy.engine.base.Connection"
      ]
     },
     "execution_count": 5,
     "metadata": {},
     "output_type": "execute_result"
    }
   ],
   "source": [
    "connect = engine.connect() # connects database\n",
    "type(connect) # creates a database file"
   ]
  },
  {
   "cell_type": "code",
   "execution_count": 7,
   "id": "ad16fa0f",
   "metadata": {},
   "outputs": [],
   "source": [
    "import pandas as pd\n",
    "df=pd.read_sql_table('Payments',connect)"
   ]
  },
  {
   "cell_type": "code",
   "execution_count": 4,
   "id": "9da37bb3",
   "metadata": {},
   "outputs": [
    {
     "name": "stderr",
     "output_type": "stream",
     "text": [
      "C:\\Users\\navan\\AppData\\Local\\Temp/ipykernel_8832/1299425654.py:2: SADeprecationWarning: The __init__() method on Inspector is deprecated and will be removed in a future release.  Please use the sqlalchemy.inspect() function on an Engine or Connection in order to acquire an Inspector. (deprecated since: 1.4)\n",
      "  inspector = Inspector(engine)\n"
     ]
    },
    {
     "data": {
      "text/plain": [
       "['Payments']"
      ]
     },
     "execution_count": 4,
     "metadata": {},
     "output_type": "execute_result"
    }
   ],
   "source": [
    "from sqlalchemy.engine.reflection import Inspector\n",
    "inspector = Inspector(engine)\n",
    "inspector.get_table_names()"
   ]
  },
  {
   "cell_type": "code",
   "execution_count": 8,
   "id": "9cedcca2",
   "metadata": {
    "scrolled": true
   },
   "outputs": [
    {
     "data": {
      "text/html": [
       "<div>\n",
       "<style scoped>\n",
       "    .dataframe tbody tr th:only-of-type {\n",
       "        vertical-align: middle;\n",
       "    }\n",
       "\n",
       "    .dataframe tbody tr th {\n",
       "        vertical-align: top;\n",
       "    }\n",
       "\n",
       "    .dataframe thead th {\n",
       "        text-align: right;\n",
       "    }\n",
       "</style>\n",
       "<table border=\"1\" class=\"dataframe\">\n",
       "  <thead>\n",
       "    <tr style=\"text-align: right;\">\n",
       "      <th></th>\n",
       "      <th>Date</th>\n",
       "      <th>CustomerID</th>\n",
       "      <th>PaymentMode</th>\n",
       "      <th>ShippingMode</th>\n",
       "      <th>Gender</th>\n",
       "      <th>ShippingTime</th>\n",
       "    </tr>\n",
       "  </thead>\n",
       "  <tbody>\n",
       "    <tr>\n",
       "      <th>0</th>\n",
       "      <td>16/08/20</td>\n",
       "      <td>10471</td>\n",
       "      <td>Creditcard</td>\n",
       "      <td>Economy</td>\n",
       "      <td>Female</td>\n",
       "      <td>17.0</td>\n",
       "    </tr>\n",
       "    <tr>\n",
       "      <th>1</th>\n",
       "      <td>2/8/2020 0:00</td>\n",
       "      <td>10472</td>\n",
       "      <td>Ewallet</td>\n",
       "      <td>Mail</td>\n",
       "      <td>Unspecified</td>\n",
       "      <td>12.0</td>\n",
       "    </tr>\n",
       "    <tr>\n",
       "      <th>2</th>\n",
       "      <td>8/8/2020 0:00</td>\n",
       "      <td>10473</td>\n",
       "      <td>Prepaid Card</td>\n",
       "      <td>Mail</td>\n",
       "      <td>None</td>\n",
       "      <td>10.0</td>\n",
       "    </tr>\n",
       "    <tr>\n",
       "      <th>3</th>\n",
       "      <td>None</td>\n",
       "      <td>10474</td>\n",
       "      <td>Directdeposit</td>\n",
       "      <td>Normal</td>\n",
       "      <td>Female</td>\n",
       "      <td>2133.0</td>\n",
       "    </tr>\n",
       "    <tr>\n",
       "      <th>4</th>\n",
       "      <td>24/08/20</td>\n",
       "      <td>10475</td>\n",
       "      <td>None</td>\n",
       "      <td>Economy</td>\n",
       "      <td>Male</td>\n",
       "      <td>2133.0</td>\n",
       "    </tr>\n",
       "  </tbody>\n",
       "</table>\n",
       "</div>"
      ],
      "text/plain": [
       "            Date  CustomerID    PaymentMode ShippingMode       Gender  \\\n",
       "0       16/08/20       10471     Creditcard      Economy       Female   \n",
       "1  2/8/2020 0:00       10472        Ewallet         Mail  Unspecified   \n",
       "2  8/8/2020 0:00       10473   Prepaid Card         Mail         None   \n",
       "3           None       10474  Directdeposit       Normal       Female   \n",
       "4       24/08/20       10475           None      Economy         Male   \n",
       "\n",
       "   ShippingTime  \n",
       "0          17.0  \n",
       "1          12.0  \n",
       "2          10.0  \n",
       "3        2133.0  \n",
       "4        2133.0  "
      ]
     },
     "execution_count": 8,
     "metadata": {},
     "output_type": "execute_result"
    }
   ],
   "source": [
    "df.head()"
   ]
  },
  {
   "cell_type": "code",
   "execution_count": 9,
   "id": "3e1cc283",
   "metadata": {},
   "outputs": [],
   "source": [
    "df.to_csv(\"db_file.csv\",index=False)"
   ]
  },
  {
   "cell_type": "code",
   "execution_count": 10,
   "id": "aca3468e",
   "metadata": {},
   "outputs": [],
   "source": [
    "df2 = pd.read_excel(\"lcl_bello_sales.xlsx\")"
   ]
  },
  {
   "cell_type": "code",
   "execution_count": 11,
   "id": "b641052c",
   "metadata": {},
   "outputs": [
    {
     "data": {
      "text/html": [
       "<div>\n",
       "<style scoped>\n",
       "    .dataframe tbody tr th:only-of-type {\n",
       "        vertical-align: middle;\n",
       "    }\n",
       "\n",
       "    .dataframe tbody tr th {\n",
       "        vertical-align: top;\n",
       "    }\n",
       "\n",
       "    .dataframe thead th {\n",
       "        text-align: right;\n",
       "    }\n",
       "</style>\n",
       "<table border=\"1\" class=\"dataframe\">\n",
       "  <thead>\n",
       "    <tr style=\"text-align: right;\">\n",
       "      <th></th>\n",
       "      <th>CustomerID</th>\n",
       "      <th>Price</th>\n",
       "    </tr>\n",
       "  </thead>\n",
       "  <tbody>\n",
       "    <tr>\n",
       "      <th>0</th>\n",
       "      <td>10471</td>\n",
       "      <td>₹ 675036.2138626401</td>\n",
       "    </tr>\n",
       "    <tr>\n",
       "      <th>1</th>\n",
       "      <td>10472</td>\n",
       "      <td>€ 2,315.53</td>\n",
       "    </tr>\n",
       "    <tr>\n",
       "      <th>2</th>\n",
       "      <td>10473</td>\n",
       "      <td>₹ 611426.29122378</td>\n",
       "    </tr>\n",
       "    <tr>\n",
       "      <th>3</th>\n",
       "      <td>10474</td>\n",
       "      <td>₹ 210869.48083470002</td>\n",
       "    </tr>\n",
       "    <tr>\n",
       "      <th>4</th>\n",
       "      <td>10475</td>\n",
       "      <td>₹ 679422.2811434</td>\n",
       "    </tr>\n",
       "  </tbody>\n",
       "</table>\n",
       "</div>"
      ],
      "text/plain": [
       "   CustomerID                 Price\n",
       "0       10471   ₹ 675036.2138626401\n",
       "1       10472            € 2,315.53\n",
       "2       10473     ₹ 611426.29122378\n",
       "3       10474  ₹ 210869.48083470002\n",
       "4       10475      ₹ 679422.2811434"
      ]
     },
     "execution_count": 11,
     "metadata": {},
     "output_type": "execute_result"
    }
   ],
   "source": [
    "df2.head()"
   ]
  },
  {
   "cell_type": "code",
   "execution_count": 14,
   "id": "9ddfaf52",
   "metadata": {},
   "outputs": [],
   "source": [
    "#read from csv file\n",
    "df3=pd.read_csv('https://raw.githubusercontent.com/SameerJain901/datasets/master/cld_bello_customers.csv')"
   ]
  },
  {
   "cell_type": "code",
   "execution_count": 15,
   "id": "f7791902",
   "metadata": {},
   "outputs": [
    {
     "data": {
      "text/html": [
       "<div>\n",
       "<style scoped>\n",
       "    .dataframe tbody tr th:only-of-type {\n",
       "        vertical-align: middle;\n",
       "    }\n",
       "\n",
       "    .dataframe tbody tr th {\n",
       "        vertical-align: top;\n",
       "    }\n",
       "\n",
       "    .dataframe thead th {\n",
       "        text-align: right;\n",
       "    }\n",
       "</style>\n",
       "<table border=\"1\" class=\"dataframe\">\n",
       "  <thead>\n",
       "    <tr style=\"text-align: right;\">\n",
       "      <th></th>\n",
       "      <th>CustomerID</th>\n",
       "      <th>ProductType</th>\n",
       "      <th>Rating</th>\n",
       "      <th>Total_Ratings</th>\n",
       "      <th>PaymentMode</th>\n",
       "    </tr>\n",
       "  </thead>\n",
       "  <tbody>\n",
       "    <tr>\n",
       "      <th>0</th>\n",
       "      <td>10471</td>\n",
       "      <td>coates</td>\n",
       "      <td>1 start</td>\n",
       "      <td>8736</td>\n",
       "      <td>Creditcard</td>\n",
       "    </tr>\n",
       "    <tr>\n",
       "      <th>1</th>\n",
       "      <td>10472</td>\n",
       "      <td>dresses</td>\n",
       "      <td>2 star</td>\n",
       "      <td>8547</td>\n",
       "      <td>Ewallet</td>\n",
       "    </tr>\n",
       "    <tr>\n",
       "      <th>2</th>\n",
       "      <td>10473</td>\n",
       "      <td>NaN</td>\n",
       "      <td>2 star</td>\n",
       "      <td>9833</td>\n",
       "      <td>Prepaid Card</td>\n",
       "    </tr>\n",
       "    <tr>\n",
       "      <th>3</th>\n",
       "      <td>10474</td>\n",
       "      <td>dresses</td>\n",
       "      <td>2star</td>\n",
       "      <td>7591</td>\n",
       "      <td>Directdeposit</td>\n",
       "    </tr>\n",
       "    <tr>\n",
       "      <th>4</th>\n",
       "      <td>10475</td>\n",
       "      <td>pantas</td>\n",
       "      <td>1 start</td>\n",
       "      <td>5131</td>\n",
       "      <td>NaN</td>\n",
       "    </tr>\n",
       "  </tbody>\n",
       "</table>\n",
       "</div>"
      ],
      "text/plain": [
       "   CustomerID ProductType   Rating  Total_Ratings    PaymentMode\n",
       "0       10471      coates  1 start           8736     Creditcard\n",
       "1       10472    dresses    2 star           8547        Ewallet\n",
       "2       10473         NaN   2 star           9833   Prepaid Card\n",
       "3       10474    dresses     2star           7591  Directdeposit\n",
       "4       10475      pantas  1 start           5131            NaN"
      ]
     },
     "execution_count": 15,
     "metadata": {},
     "output_type": "execute_result"
    }
   ],
   "source": [
    "df3.head()"
   ]
  },
  {
   "cell_type": "code",
   "execution_count": 16,
   "id": "861102b0",
   "metadata": {},
   "outputs": [],
   "source": [
    "df2.drop(columns=\"CustomerID\",inplace=True)\n",
    "df3.drop(columns=\"CustomerID\",inplace=True)"
   ]
  },
  {
   "cell_type": "code",
   "execution_count": 17,
   "id": "96661a3b",
   "metadata": {},
   "outputs": [
    {
     "data": {
      "text/html": [
       "<div>\n",
       "<style scoped>\n",
       "    .dataframe tbody tr th:only-of-type {\n",
       "        vertical-align: middle;\n",
       "    }\n",
       "\n",
       "    .dataframe tbody tr th {\n",
       "        vertical-align: top;\n",
       "    }\n",
       "\n",
       "    .dataframe thead th {\n",
       "        text-align: right;\n",
       "    }\n",
       "</style>\n",
       "<table border=\"1\" class=\"dataframe\">\n",
       "  <thead>\n",
       "    <tr style=\"text-align: right;\">\n",
       "      <th></th>\n",
       "      <th>Date</th>\n",
       "      <th>CustomerID</th>\n",
       "      <th>PaymentMode</th>\n",
       "      <th>ShippingMode</th>\n",
       "      <th>Gender</th>\n",
       "      <th>ShippingTime</th>\n",
       "      <th>Price</th>\n",
       "      <th>ProductType</th>\n",
       "      <th>Rating</th>\n",
       "      <th>Total_Ratings</th>\n",
       "      <th>PaymentMode</th>\n",
       "    </tr>\n",
       "  </thead>\n",
       "  <tbody>\n",
       "    <tr>\n",
       "      <th>0</th>\n",
       "      <td>16/08/20</td>\n",
       "      <td>10471</td>\n",
       "      <td>Creditcard</td>\n",
       "      <td>Economy</td>\n",
       "      <td>Female</td>\n",
       "      <td>17.0</td>\n",
       "      <td>₹ 675036.2138626401</td>\n",
       "      <td>coates</td>\n",
       "      <td>1 start</td>\n",
       "      <td>8736</td>\n",
       "      <td>Creditcard</td>\n",
       "    </tr>\n",
       "    <tr>\n",
       "      <th>1</th>\n",
       "      <td>2/8/2020 0:00</td>\n",
       "      <td>10472</td>\n",
       "      <td>Ewallet</td>\n",
       "      <td>Mail</td>\n",
       "      <td>Unspecified</td>\n",
       "      <td>12.0</td>\n",
       "      <td>€ 2,315.53</td>\n",
       "      <td>dresses</td>\n",
       "      <td>2 star</td>\n",
       "      <td>8547</td>\n",
       "      <td>Ewallet</td>\n",
       "    </tr>\n",
       "    <tr>\n",
       "      <th>2</th>\n",
       "      <td>8/8/2020 0:00</td>\n",
       "      <td>10473</td>\n",
       "      <td>Prepaid Card</td>\n",
       "      <td>Mail</td>\n",
       "      <td>None</td>\n",
       "      <td>10.0</td>\n",
       "      <td>₹ 611426.29122378</td>\n",
       "      <td>NaN</td>\n",
       "      <td>2 star</td>\n",
       "      <td>9833</td>\n",
       "      <td>Prepaid Card</td>\n",
       "    </tr>\n",
       "    <tr>\n",
       "      <th>3</th>\n",
       "      <td>None</td>\n",
       "      <td>10474</td>\n",
       "      <td>Directdeposit</td>\n",
       "      <td>Normal</td>\n",
       "      <td>Female</td>\n",
       "      <td>2133.0</td>\n",
       "      <td>₹ 210869.48083470002</td>\n",
       "      <td>dresses</td>\n",
       "      <td>2star</td>\n",
       "      <td>7591</td>\n",
       "      <td>Directdeposit</td>\n",
       "    </tr>\n",
       "    <tr>\n",
       "      <th>4</th>\n",
       "      <td>24/08/20</td>\n",
       "      <td>10475</td>\n",
       "      <td>None</td>\n",
       "      <td>Economy</td>\n",
       "      <td>Male</td>\n",
       "      <td>2133.0</td>\n",
       "      <td>₹ 679422.2811434</td>\n",
       "      <td>pantas</td>\n",
       "      <td>1 start</td>\n",
       "      <td>5131</td>\n",
       "      <td>NaN</td>\n",
       "    </tr>\n",
       "  </tbody>\n",
       "</table>\n",
       "</div>"
      ],
      "text/plain": [
       "            Date  CustomerID    PaymentMode ShippingMode       Gender  \\\n",
       "0       16/08/20       10471     Creditcard      Economy       Female   \n",
       "1  2/8/2020 0:00       10472        Ewallet         Mail  Unspecified   \n",
       "2  8/8/2020 0:00       10473   Prepaid Card         Mail         None   \n",
       "3           None       10474  Directdeposit       Normal       Female   \n",
       "4       24/08/20       10475           None      Economy         Male   \n",
       "\n",
       "   ShippingTime                 Price ProductType   Rating  Total_Ratings  \\\n",
       "0          17.0   ₹ 675036.2138626401      coates  1 start           8736   \n",
       "1          12.0            € 2,315.53    dresses    2 star           8547   \n",
       "2          10.0     ₹ 611426.29122378         NaN   2 star           9833   \n",
       "3        2133.0  ₹ 210869.48083470002    dresses     2star           7591   \n",
       "4        2133.0      ₹ 679422.2811434      pantas  1 start           5131   \n",
       "\n",
       "     PaymentMode  \n",
       "0     Creditcard  \n",
       "1        Ewallet  \n",
       "2   Prepaid Card  \n",
       "3  Directdeposit  \n",
       "4            NaN  "
      ]
     },
     "execution_count": 17,
     "metadata": {},
     "output_type": "execute_result"
    }
   ],
   "source": [
    "data = pd.concat([df,df2,df3], axis=1)\n",
    "data.head()"
   ]
  },
  {
   "cell_type": "code",
   "execution_count": 18,
   "id": "a91c709f",
   "metadata": {},
   "outputs": [],
   "source": [
    "data.to_csv(\"single_source.csv\") # Raw data"
   ]
  },
  {
   "cell_type": "code",
   "execution_count": null,
   "id": "f99bf188",
   "metadata": {},
   "outputs": [],
   "source": []
  }
 ],
 "metadata": {
  "kernelspec": {
   "display_name": "Python 3 (ipykernel)",
   "language": "python",
   "name": "python3"
  },
  "language_info": {
   "codemirror_mode": {
    "name": "ipython",
    "version": 3
   },
   "file_extension": ".py",
   "mimetype": "text/x-python",
   "name": "python",
   "nbconvert_exporter": "python",
   "pygments_lexer": "ipython3",
   "version": "3.9.7"
  }
 },
 "nbformat": 4,
 "nbformat_minor": 5
}
