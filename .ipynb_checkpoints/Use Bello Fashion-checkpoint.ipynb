{
 "cells": [
  {
   "cell_type": "code",
   "execution_count": 1,
   "id": "3035f300",
   "metadata": {},
   "outputs": [
    {
     "name": "stdout",
     "output_type": "stream",
     "text": [
      "Requirement already satisfied: SQLAlchemy in c:\\users\\navan\\anaconda3\\lib\\site-packages (1.4.22)\n",
      "Requirement already satisfied: greenlet!=0.4.17 in c:\\users\\navan\\anaconda3\\lib\\site-packages (from SQLAlchemy) (1.1.1)\n"
     ]
    }
   ],
   "source": [
    "!pip install SQLAlchemy"
   ]
  },
  {
   "cell_type": "code",
   "execution_count": 2,
   "id": "aeec6efc",
   "metadata": {},
   "outputs": [],
   "source": [
    "from sqlalchemy import create_engine"
   ]
  },
  {
   "cell_type": "code",
   "execution_count": 3,
   "id": "fd8a1b9a",
   "metadata": {},
   "outputs": [],
   "source": [
    "engine=create_engine('sqlite:///db_bello_customers.db')"
   ]
  },
  {
   "cell_type": "code",
   "execution_count": 5,
   "id": "60ce1a78",
   "metadata": {},
   "outputs": [
    {
     "data": {
      "text/plain": [
       "sqlalchemy.engine.base.Connection"
      ]
     },
     "execution_count": 5,
     "metadata": {},
     "output_type": "execute_result"
    }
   ],
   "source": [
    "connect = engine.connect() # connects database\n",
    "type(connect) # creates a database file"
   ]
  },
  {
   "cell_type": "code",
   "execution_count": 7,
   "id": "c0c50130",
   "metadata": {},
   "outputs": [],
   "source": [
    "import pandas as pd\n",
    "df=pd.read_sql_table('Payments',connect)"
   ]
  },
  {
   "cell_type": "code",
   "execution_count": 4,
   "id": "c145c652",
   "metadata": {},
   "outputs": [
    {
     "name": "stderr",
     "output_type": "stream",
     "text": [
      "C:\\Users\\navan\\AppData\\Local\\Temp/ipykernel_8832/1299425654.py:2: SADeprecationWarning: The __init__() method on Inspector is deprecated and will be removed in a future release.  Please use the sqlalchemy.inspect() function on an Engine or Connection in order to acquire an Inspector. (deprecated since: 1.4)\n",
      "  inspector = Inspector(engine)\n"
     ]
    },
    {
     "data": {
      "text/plain": [
       "['Payments']"
      ]
     },
     "execution_count": 4,
     "metadata": {},
     "output_type": "execute_result"
    }
   ],
   "source": [
    "from sqlalchemy.engine.reflection import Inspector\n",
    "inspector = Inspector(engine)\n",
    "inspector.get_table_names()"
   ]
  },
  {
   "cell_type": "code",
   "execution_count": 8,
   "id": "850ddead",
   "metadata": {
    "scrolled": true
   },
   "outputs": [
    {
     "data": {
      "text/html": [
       "<div>\n",
       "<style scoped>\n",
       "    .dataframe tbody tr th:only-of-type {\n",
       "        vertical-align: middle;\n",
       "    }\n",
       "\n",
       "    .dataframe tbody tr th {\n",
       "        vertical-align: top;\n",
       "    }\n",
       "\n",
       "    .dataframe thead th {\n",
       "        text-align: right;\n",
       "    }\n",
       "</style>\n",
       "<table border=\"1\" class=\"dataframe\">\n",
       "  <thead>\n",
       "    <tr style=\"text-align: right;\">\n",
       "      <th></th>\n",
       "      <th>Date</th>\n",
       "      <th>CustomerID</th>\n",
       "      <th>PaymentMode</th>\n",
       "      <th>ShippingMode</th>\n",
       "      <th>Gender</th>\n",
       "      <th>ShippingTime</th>\n",
       "    </tr>\n",
       "  </thead>\n",
       "  <tbody>\n",
       "    <tr>\n",
       "      <th>0</th>\n",
       "      <td>16/08/20</td>\n",
       "      <td>10471</td>\n",
       "      <td>Creditcard</td>\n",
       "      <td>Economy</td>\n",
       "      <td>Female</td>\n",
       "      <td>17.0</td>\n",
       "    </tr>\n",
       "    <tr>\n",
       "      <th>1</th>\n",
       "      <td>2/8/2020 0:00</td>\n",
       "      <td>10472</td>\n",
       "      <td>Ewallet</td>\n",
       "      <td>Mail</td>\n",
       "      <td>Unspecified</td>\n",
       "      <td>12.0</td>\n",
       "    </tr>\n",
       "    <tr>\n",
       "      <th>2</th>\n",
       "      <td>8/8/2020 0:00</td>\n",
       "      <td>10473</td>\n",
       "      <td>Prepaid Card</td>\n",
       "      <td>Mail</td>\n",
       "      <td>None</td>\n",
       "      <td>10.0</td>\n",
       "    </tr>\n",
       "    <tr>\n",
       "      <th>3</th>\n",
       "      <td>None</td>\n",
       "      <td>10474</td>\n",
       "      <td>Directdeposit</td>\n",
       "      <td>Normal</td>\n",
       "      <td>Female</td>\n",
       "      <td>2133.0</td>\n",
       "    </tr>\n",
       "    <tr>\n",
       "      <th>4</th>\n",
       "      <td>24/08/20</td>\n",
       "      <td>10475</td>\n",
       "      <td>None</td>\n",
       "      <td>Economy</td>\n",
       "      <td>Male</td>\n",
       "      <td>2133.0</td>\n",
       "    </tr>\n",
       "  </tbody>\n",
       "</table>\n",
       "</div>"
      ],
      "text/plain": [
       "            Date  CustomerID    PaymentMode ShippingMode       Gender  \\\n",
       "0       16/08/20       10471     Creditcard      Economy       Female   \n",
       "1  2/8/2020 0:00       10472        Ewallet         Mail  Unspecified   \n",
       "2  8/8/2020 0:00       10473   Prepaid Card         Mail         None   \n",
       "3           None       10474  Directdeposit       Normal       Female   \n",
       "4       24/08/20       10475           None      Economy         Male   \n",
       "\n",
       "   ShippingTime  \n",
       "0          17.0  \n",
       "1          12.0  \n",
       "2          10.0  \n",
       "3        2133.0  \n",
       "4        2133.0  "
      ]
     },
     "execution_count": 8,
     "metadata": {},
     "output_type": "execute_result"
    }
   ],
   "source": [
    "df.head()"
   ]
  },
  {
   "cell_type": "code",
   "execution_count": 9,
   "id": "7865772b",
   "metadata": {},
   "outputs": [],
   "source": [
    "df.to_csv(\"db_file.csv\",index=False)"
   ]
  },
  {
   "cell_type": "code",
   "execution_count": 10,
   "id": "7cd6aecf",
   "metadata": {},
   "outputs": [],
   "source": [
    "df2 = pd.read_excel(\"lcl_bello_sales.xlsx\")"
   ]
  },
  {
   "cell_type": "code",
   "execution_count": 11,
   "id": "afa5d380",
   "metadata": {},
   "outputs": [
    {
     "data": {
      "text/html": [
       "<div>\n",
       "<style scoped>\n",
       "    .dataframe tbody tr th:only-of-type {\n",
       "        vertical-align: middle;\n",
       "    }\n",
       "\n",
       "    .dataframe tbody tr th {\n",
       "        vertical-align: top;\n",
       "    }\n",
       "\n",
       "    .dataframe thead th {\n",
       "        text-align: right;\n",
       "    }\n",
       "</style>\n",
       "<table border=\"1\" class=\"dataframe\">\n",
       "  <thead>\n",
       "    <tr style=\"text-align: right;\">\n",
       "      <th></th>\n",
       "      <th>CustomerID</th>\n",
       "      <th>Price</th>\n",
       "    </tr>\n",
       "  </thead>\n",
       "  <tbody>\n",
       "    <tr>\n",
       "      <th>0</th>\n",
       "      <td>10471</td>\n",
       "      <td>₹ 675036.2138626401</td>\n",
       "    </tr>\n",
       "    <tr>\n",
       "      <th>1</th>\n",
       "      <td>10472</td>\n",
       "      <td>€ 2,315.53</td>\n",
       "    </tr>\n",
       "    <tr>\n",
       "      <th>2</th>\n",
       "      <td>10473</td>\n",
       "      <td>₹ 611426.29122378</td>\n",
       "    </tr>\n",
       "    <tr>\n",
       "      <th>3</th>\n",
       "      <td>10474</td>\n",
       "      <td>₹ 210869.48083470002</td>\n",
       "    </tr>\n",
       "    <tr>\n",
       "      <th>4</th>\n",
       "      <td>10475</td>\n",
       "      <td>₹ 679422.2811434</td>\n",
       "    </tr>\n",
       "  </tbody>\n",
       "</table>\n",
       "</div>"
      ],
      "text/plain": [
       "   CustomerID                 Price\n",
       "0       10471   ₹ 675036.2138626401\n",
       "1       10472            € 2,315.53\n",
       "2       10473     ₹ 611426.29122378\n",
       "3       10474  ₹ 210869.48083470002\n",
       "4       10475      ₹ 679422.2811434"
      ]
     },
     "execution_count": 11,
     "metadata": {},
     "output_type": "execute_result"
    }
   ],
   "source": [
    "df2.head()"
   ]
  },
  {
   "cell_type": "code",
   "execution_count": 14,
   "id": "7630cf45",
   "metadata": {},
   "outputs": [],
   "source": [
    "#read from csv file\n",
    "df3=pd.read_csv('https://raw.githubusercontent.com/SameerJain901/datasets/master/cld_bello_customers.csv')"
   ]
  },
  {
   "cell_type": "code",
   "execution_count": 15,
   "id": "dc28cd8f",
   "metadata": {},
   "outputs": [
    {
     "data": {
      "text/html": [
       "<div>\n",
       "<style scoped>\n",
       "    .dataframe tbody tr th:only-of-type {\n",
       "        vertical-align: middle;\n",
       "    }\n",
       "\n",
       "    .dataframe tbody tr th {\n",
       "        vertical-align: top;\n",
       "    }\n",
       "\n",
       "    .dataframe thead th {\n",
       "        text-align: right;\n",
       "    }\n",
       "</style>\n",
       "<table border=\"1\" class=\"dataframe\">\n",
       "  <thead>\n",
       "    <tr style=\"text-align: right;\">\n",
       "      <th></th>\n",
       "      <th>CustomerID</th>\n",
       "      <th>ProductType</th>\n",
       "      <th>Rating</th>\n",
       "      <th>Total_Ratings</th>\n",
       "      <th>PaymentMode</th>\n",
       "    </tr>\n",
       "  </thead>\n",
       "  <tbody>\n",
       "    <tr>\n",
       "      <th>0</th>\n",
       "      <td>10471</td>\n",
       "      <td>coates</td>\n",
       "      <td>1 start</td>\n",
       "      <td>8736</td>\n",
       "      <td>Creditcard</td>\n",
       "    </tr>\n",
       "    <tr>\n",
       "      <th>1</th>\n",
       "      <td>10472</td>\n",
       "      <td>dresses</td>\n",
       "      <td>2 star</td>\n",
       "      <td>8547</td>\n",
       "      <td>Ewallet</td>\n",
       "    </tr>\n",
       "    <tr>\n",
       "      <th>2</th>\n",
       "      <td>10473</td>\n",
       "      <td>NaN</td>\n",
       "      <td>2 star</td>\n",
       "      <td>9833</td>\n",
       "      <td>Prepaid Card</td>\n",
       "    </tr>\n",
       "    <tr>\n",
       "      <th>3</th>\n",
       "      <td>10474</td>\n",
       "      <td>dresses</td>\n",
       "      <td>2star</td>\n",
       "      <td>7591</td>\n",
       "      <td>Directdeposit</td>\n",
       "    </tr>\n",
       "    <tr>\n",
       "      <th>4</th>\n",
       "      <td>10475</td>\n",
       "      <td>pantas</td>\n",
       "      <td>1 start</td>\n",
       "      <td>5131</td>\n",
       "      <td>NaN</td>\n",
       "    </tr>\n",
       "  </tbody>\n",
       "</table>\n",
       "</div>"
      ],
      "text/plain": [
       "   CustomerID ProductType   Rating  Total_Ratings    PaymentMode\n",
       "0       10471      coates  1 start           8736     Creditcard\n",
       "1       10472    dresses    2 star           8547        Ewallet\n",
       "2       10473         NaN   2 star           9833   Prepaid Card\n",
       "3       10474    dresses     2star           7591  Directdeposit\n",
       "4       10475      pantas  1 start           5131            NaN"
      ]
     },
     "execution_count": 15,
     "metadata": {},
     "output_type": "execute_result"
    }
   ],
   "source": [
    "df3.head()"
   ]
  },
  {
   "cell_type": "code",
   "execution_count": 16,
   "id": "23a7d14b",
   "metadata": {},
   "outputs": [],
   "source": [
    "df2.drop(columns=\"CustomerID\",inplace=True)\n",
    "df3.drop(columns=\"CustomerID\",inplace=True)"
   ]
  },
  {
   "cell_type": "code",
   "execution_count": 17,
   "id": "69e0f495",
   "metadata": {},
   "outputs": [
    {
     "data": {
      "text/html": [
       "<div>\n",
       "<style scoped>\n",
       "    .dataframe tbody tr th:only-of-type {\n",
       "        vertical-align: middle;\n",
       "    }\n",
       "\n",
       "    .dataframe tbody tr th {\n",
       "        vertical-align: top;\n",
       "    }\n",
       "\n",
       "    .dataframe thead th {\n",
       "        text-align: right;\n",
       "    }\n",
       "</style>\n",
       "<table border=\"1\" class=\"dataframe\">\n",
       "  <thead>\n",
       "    <tr style=\"text-align: right;\">\n",
       "      <th></th>\n",
       "      <th>Date</th>\n",
       "      <th>CustomerID</th>\n",
       "      <th>PaymentMode</th>\n",
       "      <th>ShippingMode</th>\n",
       "      <th>Gender</th>\n",
       "      <th>ShippingTime</th>\n",
       "      <th>Price</th>\n",
       "      <th>ProductType</th>\n",
       "      <th>Rating</th>\n",
       "      <th>Total_Ratings</th>\n",
       "      <th>PaymentMode</th>\n",
       "    </tr>\n",
       "  </thead>\n",
       "  <tbody>\n",
       "    <tr>\n",
       "      <th>0</th>\n",
       "      <td>16/08/20</td>\n",
       "      <td>10471</td>\n",
       "      <td>Creditcard</td>\n",
       "      <td>Economy</td>\n",
       "      <td>Female</td>\n",
       "      <td>17.0</td>\n",
       "      <td>₹ 675036.2138626401</td>\n",
       "      <td>coates</td>\n",
       "      <td>1 start</td>\n",
       "      <td>8736</td>\n",
       "      <td>Creditcard</td>\n",
       "    </tr>\n",
       "    <tr>\n",
       "      <th>1</th>\n",
       "      <td>2/8/2020 0:00</td>\n",
       "      <td>10472</td>\n",
       "      <td>Ewallet</td>\n",
       "      <td>Mail</td>\n",
       "      <td>Unspecified</td>\n",
       "      <td>12.0</td>\n",
       "      <td>€ 2,315.53</td>\n",
       "      <td>dresses</td>\n",
       "      <td>2 star</td>\n",
       "      <td>8547</td>\n",
       "      <td>Ewallet</td>\n",
       "    </tr>\n",
       "    <tr>\n",
       "      <th>2</th>\n",
       "      <td>8/8/2020 0:00</td>\n",
       "      <td>10473</td>\n",
       "      <td>Prepaid Card</td>\n",
       "      <td>Mail</td>\n",
       "      <td>None</td>\n",
       "      <td>10.0</td>\n",
       "      <td>₹ 611426.29122378</td>\n",
       "      <td>NaN</td>\n",
       "      <td>2 star</td>\n",
       "      <td>9833</td>\n",
       "      <td>Prepaid Card</td>\n",
       "    </tr>\n",
       "    <tr>\n",
       "      <th>3</th>\n",
       "      <td>None</td>\n",
       "      <td>10474</td>\n",
       "      <td>Directdeposit</td>\n",
       "      <td>Normal</td>\n",
       "      <td>Female</td>\n",
       "      <td>2133.0</td>\n",
       "      <td>₹ 210869.48083470002</td>\n",
       "      <td>dresses</td>\n",
       "      <td>2star</td>\n",
       "      <td>7591</td>\n",
       "      <td>Directdeposit</td>\n",
       "    </tr>\n",
       "    <tr>\n",
       "      <th>4</th>\n",
       "      <td>24/08/20</td>\n",
       "      <td>10475</td>\n",
       "      <td>None</td>\n",
       "      <td>Economy</td>\n",
       "      <td>Male</td>\n",
       "      <td>2133.0</td>\n",
       "      <td>₹ 679422.2811434</td>\n",
       "      <td>pantas</td>\n",
       "      <td>1 start</td>\n",
       "      <td>5131</td>\n",
       "      <td>NaN</td>\n",
       "    </tr>\n",
       "  </tbody>\n",
       "</table>\n",
       "</div>"
      ],
      "text/plain": [
       "            Date  CustomerID    PaymentMode ShippingMode       Gender  \\\n",
       "0       16/08/20       10471     Creditcard      Economy       Female   \n",
       "1  2/8/2020 0:00       10472        Ewallet         Mail  Unspecified   \n",
       "2  8/8/2020 0:00       10473   Prepaid Card         Mail         None   \n",
       "3           None       10474  Directdeposit       Normal       Female   \n",
       "4       24/08/20       10475           None      Economy         Male   \n",
       "\n",
       "   ShippingTime                 Price ProductType   Rating  Total_Ratings  \\\n",
       "0          17.0   ₹ 675036.2138626401      coates  1 start           8736   \n",
       "1          12.0            € 2,315.53    dresses    2 star           8547   \n",
       "2          10.0     ₹ 611426.29122378         NaN   2 star           9833   \n",
       "3        2133.0  ₹ 210869.48083470002    dresses     2star           7591   \n",
       "4        2133.0      ₹ 679422.2811434      pantas  1 start           5131   \n",
       "\n",
       "     PaymentMode  \n",
       "0     Creditcard  \n",
       "1        Ewallet  \n",
       "2   Prepaid Card  \n",
       "3  Directdeposit  \n",
       "4            NaN  "
      ]
     },
     "execution_count": 17,
     "metadata": {},
     "output_type": "execute_result"
    }
   ],
   "source": [
    "data = pd.concat([df,df2,df3], axis=1)\n",
    "data.head()"
   ]
  },
  {
   "cell_type": "code",
   "execution_count": 18,
   "id": "019382cd",
   "metadata": {},
   "outputs": [],
   "source": [
    "data.to_csv(\"single_source.csv\") # Raw data"
   ]
  },
  {
   "cell_type": "code",
   "execution_count": 20,
   "id": "63d85205",
   "metadata": {},
   "outputs": [
    {
     "data": {
      "text/plain": [
       "True"
      ]
     },
     "execution_count": 20,
     "metadata": {},
     "output_type": "execute_result"
    }
   ],
   "source": [
    "data.duplicated().any()"
   ]
  },
  {
   "cell_type": "code",
   "execution_count": 21,
   "id": "816a008e",
   "metadata": {},
   "outputs": [
    {
     "data": {
      "text/plain": [
       "0     False\n",
       "1     False\n",
       "2     False\n",
       "3     False\n",
       "4     False\n",
       "      ...  \n",
       "95    False\n",
       "96    False\n",
       "97    False\n",
       "98    False\n",
       "99    False\n",
       "Length: 100, dtype: bool"
      ]
     },
     "execution_count": 21,
     "metadata": {},
     "output_type": "execute_result"
    }
   ],
   "source": [
    "data.duplicated()"
   ]
  },
  {
   "cell_type": "code",
   "execution_count": 24,
   "id": "305b3a42",
   "metadata": {},
   "outputs": [
    {
     "data": {
      "text/html": [
       "<div>\n",
       "<style scoped>\n",
       "    .dataframe tbody tr th:only-of-type {\n",
       "        vertical-align: middle;\n",
       "    }\n",
       "\n",
       "    .dataframe tbody tr th {\n",
       "        vertical-align: top;\n",
       "    }\n",
       "\n",
       "    .dataframe thead th {\n",
       "        text-align: right;\n",
       "    }\n",
       "</style>\n",
       "<table border=\"1\" class=\"dataframe\">\n",
       "  <thead>\n",
       "    <tr style=\"text-align: right;\">\n",
       "      <th></th>\n",
       "      <th>Date</th>\n",
       "      <th>CustomerID</th>\n",
       "      <th>PaymentMode</th>\n",
       "      <th>ShippingMode</th>\n",
       "      <th>Gender</th>\n",
       "      <th>ShippingTime</th>\n",
       "      <th>Price</th>\n",
       "      <th>ProductType</th>\n",
       "      <th>Rating</th>\n",
       "      <th>Total_Ratings</th>\n",
       "      <th>PaymentMode</th>\n",
       "    </tr>\n",
       "  </thead>\n",
       "  <tbody>\n",
       "    <tr>\n",
       "      <th>0</th>\n",
       "      <td>16/08/20</td>\n",
       "      <td>10471</td>\n",
       "      <td>Creditcard</td>\n",
       "      <td>Economy</td>\n",
       "      <td>Female</td>\n",
       "      <td>17.0</td>\n",
       "      <td>₹ 675036.2138626401</td>\n",
       "      <td>coates</td>\n",
       "      <td>1 start</td>\n",
       "      <td>8736</td>\n",
       "      <td>Creditcard</td>\n",
       "    </tr>\n",
       "  </tbody>\n",
       "</table>\n",
       "</div>"
      ],
      "text/plain": [
       "       Date  CustomerID PaymentMode ShippingMode  Gender  ShippingTime  \\\n",
       "0  16/08/20       10471  Creditcard      Economy  Female          17.0   \n",
       "\n",
       "                 Price ProductType   Rating  Total_Ratings PaymentMode  \n",
       "0  ₹ 675036.2138626401      coates  1 start           8736  Creditcard  "
      ]
     },
     "execution_count": 24,
     "metadata": {},
     "output_type": "execute_result"
    }
   ],
   "source": [
    "data[data[\"CustomerID\"] == 10471]"
   ]
  },
  {
   "cell_type": "code",
   "execution_count": 23,
   "id": "70fb1842",
   "metadata": {},
   "outputs": [
    {
     "data": {
      "text/plain": [
       "0      True\n",
       "1     False\n",
       "2     False\n",
       "3     False\n",
       "4     False\n",
       "      ...  \n",
       "95    False\n",
       "96    False\n",
       "97    False\n",
       "98    False\n",
       "99    False\n",
       "Name: CustomerID, Length: 100, dtype: bool"
      ]
     },
     "execution_count": 23,
     "metadata": {},
     "output_type": "execute_result"
    }
   ],
   "source": [
    "data[\"CustomerID\"] == 10471"
   ]
  },
  {
   "cell_type": "code",
   "execution_count": 25,
   "id": "7390d7ea",
   "metadata": {},
   "outputs": [
    {
     "data": {
      "text/html": [
       "<div>\n",
       "<style scoped>\n",
       "    .dataframe tbody tr th:only-of-type {\n",
       "        vertical-align: middle;\n",
       "    }\n",
       "\n",
       "    .dataframe tbody tr th {\n",
       "        vertical-align: top;\n",
       "    }\n",
       "\n",
       "    .dataframe thead th {\n",
       "        text-align: right;\n",
       "    }\n",
       "</style>\n",
       "<table border=\"1\" class=\"dataframe\">\n",
       "  <thead>\n",
       "    <tr style=\"text-align: right;\">\n",
       "      <th></th>\n",
       "      <th>Date</th>\n",
       "      <th>CustomerID</th>\n",
       "      <th>PaymentMode</th>\n",
       "      <th>ShippingMode</th>\n",
       "      <th>Gender</th>\n",
       "      <th>ShippingTime</th>\n",
       "      <th>Price</th>\n",
       "      <th>ProductType</th>\n",
       "      <th>Rating</th>\n",
       "      <th>Total_Ratings</th>\n",
       "      <th>PaymentMode</th>\n",
       "    </tr>\n",
       "  </thead>\n",
       "  <tbody>\n",
       "    <tr>\n",
       "      <th>88</th>\n",
       "      <td>31/08/20</td>\n",
       "      <td>10558</td>\n",
       "      <td>Credit Card</td>\n",
       "      <td>Normal</td>\n",
       "      <td>Unspecified</td>\n",
       "      <td>11.0</td>\n",
       "      <td>₹ 234895.78095268</td>\n",
       "      <td>coates</td>\n",
       "      <td>5 star</td>\n",
       "      <td>7007</td>\n",
       "      <td>Credit Card</td>\n",
       "    </tr>\n",
       "    <tr>\n",
       "      <th>89</th>\n",
       "      <td>31/08/20</td>\n",
       "      <td>10558</td>\n",
       "      <td>Credit Card</td>\n",
       "      <td>Normal</td>\n",
       "      <td>Unspecified</td>\n",
       "      <td>11.0</td>\n",
       "      <td>₹ 234895.78095268</td>\n",
       "      <td>coates</td>\n",
       "      <td>5 star</td>\n",
       "      <td>7007</td>\n",
       "      <td>Credit Card</td>\n",
       "    </tr>\n",
       "  </tbody>\n",
       "</table>\n",
       "</div>"
      ],
      "text/plain": [
       "        Date  CustomerID  PaymentMode ShippingMode       Gender  ShippingTime  \\\n",
       "88  31/08/20       10558  Credit Card       Normal  Unspecified          11.0   \n",
       "89  31/08/20       10558  Credit Card       Normal  Unspecified          11.0   \n",
       "\n",
       "                Price ProductType  Rating  Total_Ratings  PaymentMode  \n",
       "88  ₹ 234895.78095268      coates  5 star           7007  Credit Card  \n",
       "89  ₹ 234895.78095268      coates  5 star           7007  Credit Card  "
      ]
     },
     "execution_count": 25,
     "metadata": {},
     "output_type": "execute_result"
    }
   ],
   "source": [
    "data[data.duplicated()]"
   ]
  },
  {
   "cell_type": "code",
   "execution_count": 26,
   "id": "58be9e20",
   "metadata": {},
   "outputs": [
    {
     "data": {
      "text/html": [
       "<div>\n",
       "<style scoped>\n",
       "    .dataframe tbody tr th:only-of-type {\n",
       "        vertical-align: middle;\n",
       "    }\n",
       "\n",
       "    .dataframe tbody tr th {\n",
       "        vertical-align: top;\n",
       "    }\n",
       "\n",
       "    .dataframe thead th {\n",
       "        text-align: right;\n",
       "    }\n",
       "</style>\n",
       "<table border=\"1\" class=\"dataframe\">\n",
       "  <thead>\n",
       "    <tr style=\"text-align: right;\">\n",
       "      <th></th>\n",
       "      <th>Date</th>\n",
       "      <th>CustomerID</th>\n",
       "      <th>PaymentMode</th>\n",
       "      <th>ShippingMode</th>\n",
       "      <th>Gender</th>\n",
       "      <th>ShippingTime</th>\n",
       "      <th>Price</th>\n",
       "      <th>ProductType</th>\n",
       "      <th>Rating</th>\n",
       "      <th>Total_Ratings</th>\n",
       "      <th>PaymentMode</th>\n",
       "    </tr>\n",
       "  </thead>\n",
       "  <tbody>\n",
       "    <tr>\n",
       "      <th>87</th>\n",
       "      <td>31/08/20</td>\n",
       "      <td>10558</td>\n",
       "      <td>Credit Card</td>\n",
       "      <td>Normal</td>\n",
       "      <td>Unspecified</td>\n",
       "      <td>11.0</td>\n",
       "      <td>₹ 234895.78095268</td>\n",
       "      <td>coates</td>\n",
       "      <td>5 star</td>\n",
       "      <td>7007</td>\n",
       "      <td>Credit Card</td>\n",
       "    </tr>\n",
       "    <tr>\n",
       "      <th>88</th>\n",
       "      <td>31/08/20</td>\n",
       "      <td>10558</td>\n",
       "      <td>Credit Card</td>\n",
       "      <td>Normal</td>\n",
       "      <td>Unspecified</td>\n",
       "      <td>11.0</td>\n",
       "      <td>₹ 234895.78095268</td>\n",
       "      <td>coates</td>\n",
       "      <td>5 star</td>\n",
       "      <td>7007</td>\n",
       "      <td>Credit Card</td>\n",
       "    </tr>\n",
       "    <tr>\n",
       "      <th>89</th>\n",
       "      <td>31/08/20</td>\n",
       "      <td>10558</td>\n",
       "      <td>Credit Card</td>\n",
       "      <td>Normal</td>\n",
       "      <td>Unspecified</td>\n",
       "      <td>11.0</td>\n",
       "      <td>₹ 234895.78095268</td>\n",
       "      <td>coates</td>\n",
       "      <td>5 star</td>\n",
       "      <td>7007</td>\n",
       "      <td>Credit Card</td>\n",
       "    </tr>\n",
       "  </tbody>\n",
       "</table>\n",
       "</div>"
      ],
      "text/plain": [
       "        Date  CustomerID  PaymentMode ShippingMode       Gender  ShippingTime  \\\n",
       "87  31/08/20       10558  Credit Card       Normal  Unspecified          11.0   \n",
       "88  31/08/20       10558  Credit Card       Normal  Unspecified          11.0   \n",
       "89  31/08/20       10558  Credit Card       Normal  Unspecified          11.0   \n",
       "\n",
       "                Price ProductType  Rating  Total_Ratings  PaymentMode  \n",
       "87  ₹ 234895.78095268      coates  5 star           7007  Credit Card  \n",
       "88  ₹ 234895.78095268      coates  5 star           7007  Credit Card  \n",
       "89  ₹ 234895.78095268      coates  5 star           7007  Credit Card  "
      ]
     },
     "execution_count": 26,
     "metadata": {},
     "output_type": "execute_result"
    }
   ],
   "source": [
    "data[data[\"CustomerID\"] == 10558]"
   ]
  },
  {
   "cell_type": "code",
   "execution_count": 27,
   "id": "96776e37",
   "metadata": {},
   "outputs": [],
   "source": [
    "data.drop_duplicates(inplace=True)"
   ]
  },
  {
   "cell_type": "code",
   "execution_count": 28,
   "id": "990b0edb",
   "metadata": {},
   "outputs": [
    {
     "data": {
      "text/html": [
       "<div>\n",
       "<style scoped>\n",
       "    .dataframe tbody tr th:only-of-type {\n",
       "        vertical-align: middle;\n",
       "    }\n",
       "\n",
       "    .dataframe tbody tr th {\n",
       "        vertical-align: top;\n",
       "    }\n",
       "\n",
       "    .dataframe thead th {\n",
       "        text-align: right;\n",
       "    }\n",
       "</style>\n",
       "<table border=\"1\" class=\"dataframe\">\n",
       "  <thead>\n",
       "    <tr style=\"text-align: right;\">\n",
       "      <th></th>\n",
       "      <th>Date</th>\n",
       "      <th>CustomerID</th>\n",
       "      <th>PaymentMode</th>\n",
       "      <th>ShippingMode</th>\n",
       "      <th>Gender</th>\n",
       "      <th>ShippingTime</th>\n",
       "      <th>Price</th>\n",
       "      <th>ProductType</th>\n",
       "      <th>Rating</th>\n",
       "      <th>Total_Ratings</th>\n",
       "      <th>PaymentMode</th>\n",
       "    </tr>\n",
       "  </thead>\n",
       "  <tbody>\n",
       "  </tbody>\n",
       "</table>\n",
       "</div>"
      ],
      "text/plain": [
       "Empty DataFrame\n",
       "Columns: [Date, CustomerID, PaymentMode, ShippingMode, Gender, ShippingTime, Price, ProductType, Rating, Total_Ratings, PaymentMode]\n",
       "Index: []"
      ]
     },
     "execution_count": 28,
     "metadata": {},
     "output_type": "execute_result"
    }
   ],
   "source": [
    "data[data.duplicated()] # Duplicate entries have been removed"
   ]
  },
  {
   "cell_type": "markdown",
   "id": "b4f04971",
   "metadata": {},
   "source": [
    "## Box & Whisker Plot"
   ]
  },
  {
   "cell_type": "markdown",
   "id": "dfeeda0f",
   "metadata": {},
   "source": [
    "https://students.flinders.edu.au/content/dam/student/slc/box-and-whisker-plots.pdf"
   ]
  },
  {
   "cell_type": "code",
   "execution_count": 29,
   "id": "8ad42d22",
   "metadata": {},
   "outputs": [
    {
     "data": {
      "text/plain": [
       "<AxesSubplot:>"
      ]
     },
     "execution_count": 29,
     "metadata": {},
     "output_type": "execute_result"
    },
    {
     "data": {
      "image/png": "[encoded data removed]",
      "text/plain": [
       "<Figure size 432x288 with 1 Axes>"
      ]
     },
     "metadata": {
      "needs_background": "light"
     },
     "output_type": "display_data"
    }
   ],
   "source": [
    "data.boxplot()"
   ]
  },
  {
   "cell_type": "code",
   "execution_count": 31,
   "id": "a5da2d91",
   "metadata": {},
   "outputs": [
    {
     "data": {
      "text/plain": [
       "9.0"
      ]
     },
     "execution_count": 31,
     "metadata": {},
     "output_type": "execute_result"
    }
   ],
   "source": [
    "q1 = data[\"ShippingTime\"].quantile(.25)\n",
    "q3 = data[\"ShippingTime\"].quantile(.75)\n",
    "IQR = q3 - q1\n",
    "IQR"
   ]
  },
  {
   "cell_type": "code",
   "execution_count": 32,
   "id": "6948de22",
   "metadata": {},
   "outputs": [
    {
     "data": {
      "text/plain": [
       "13.0"
      ]
     },
     "execution_count": 32,
     "metadata": {},
     "output_type": "execute_result"
    }
   ],
   "source": [
    "q2 = data[\"ShippingTime\"].median()\n",
    "q2"
   ]
  },
  {
   "cell_type": "code",
   "execution_count": 41,
   "id": "12623b1c",
   "metadata": {},
   "outputs": [
    {
     "data": {
      "text/html": [
       "<div>\n",
       "<style scoped>\n",
       "    .dataframe tbody tr th:only-of-type {\n",
       "        vertical-align: middle;\n",
       "    }\n",
       "\n",
       "    .dataframe tbody tr th {\n",
       "        vertical-align: top;\n",
       "    }\n",
       "\n",
       "    .dataframe thead th {\n",
       "        text-align: right;\n",
       "    }\n",
       "</style>\n",
       "<table border=\"1\" class=\"dataframe\">\n",
       "  <thead>\n",
       "    <tr style=\"text-align: right;\">\n",
       "      <th></th>\n",
       "      <th>Date</th>\n",
       "      <th>CustomerID</th>\n",
       "      <th>PaymentMode</th>\n",
       "      <th>ShippingMode</th>\n",
       "      <th>Gender</th>\n",
       "      <th>ShippingTime</th>\n",
       "      <th>Price</th>\n",
       "      <th>ProductType</th>\n",
       "      <th>Rating</th>\n",
       "      <th>Total_Ratings</th>\n",
       "      <th>PaymentMode</th>\n",
       "    </tr>\n",
       "  </thead>\n",
       "  <tbody>\n",
       "    <tr>\n",
       "      <th>3</th>\n",
       "      <td>None</td>\n",
       "      <td>10474</td>\n",
       "      <td>Directdeposit</td>\n",
       "      <td>Normal</td>\n",
       "      <td>Female</td>\n",
       "      <td>2133.0</td>\n",
       "      <td>₹ 210869.48083470002</td>\n",
       "      <td>dresses</td>\n",
       "      <td>2star</td>\n",
       "      <td>7591</td>\n",
       "      <td>Directdeposit</td>\n",
       "    </tr>\n",
       "    <tr>\n",
       "      <th>4</th>\n",
       "      <td>24/08/20</td>\n",
       "      <td>10475</td>\n",
       "      <td>None</td>\n",
       "      <td>Economy</td>\n",
       "      <td>Male</td>\n",
       "      <td>2133.0</td>\n",
       "      <td>₹ 679422.2811434</td>\n",
       "      <td>pantas</td>\n",
       "      <td>1 start</td>\n",
       "      <td>5131</td>\n",
       "      <td>NaN</td>\n",
       "    </tr>\n",
       "    <tr>\n",
       "      <th>27</th>\n",
       "      <td>19/08/20</td>\n",
       "      <td>10498</td>\n",
       "      <td>Direct Deposit</td>\n",
       "      <td>Express</td>\n",
       "      <td>Unspecified</td>\n",
       "      <td>213.0</td>\n",
       "      <td>₹ 635118.07344224</td>\n",
       "      <td>Coats/Jackets</td>\n",
       "      <td>3 star</td>\n",
       "      <td>9297</td>\n",
       "      <td>Direct Deposit</td>\n",
       "    </tr>\n",
       "    <tr>\n",
       "      <th>43</th>\n",
       "      <td>14/08/20</td>\n",
       "      <td>10514</td>\n",
       "      <td>Credit Card</td>\n",
       "      <td>Express</td>\n",
       "      <td>Unspecified</td>\n",
       "      <td>1321.0</td>\n",
       "      <td>€ 7,261.79</td>\n",
       "      <td>dresses</td>\n",
       "      <td>5 star</td>\n",
       "      <td>5567</td>\n",
       "      <td>Credit Card</td>\n",
       "    </tr>\n",
       "    <tr>\n",
       "      <th>59</th>\n",
       "      <td>17/08/20</td>\n",
       "      <td>10530</td>\n",
       "      <td>Cash</td>\n",
       "      <td>Economy</td>\n",
       "      <td>Female</td>\n",
       "      <td>3113.0</td>\n",
       "      <td>$8,670.69</td>\n",
       "      <td>Cardigan</td>\n",
       "      <td>4 star</td>\n",
       "      <td>6930</td>\n",
       "      <td>Cash</td>\n",
       "    </tr>\n",
       "    <tr>\n",
       "      <th>71</th>\n",
       "      <td>20/08/20</td>\n",
       "      <td>10542</td>\n",
       "      <td>Cash</td>\n",
       "      <td>Mail</td>\n",
       "      <td>Male</td>\n",
       "      <td>3132.0</td>\n",
       "      <td>₹ 708227.40839738</td>\n",
       "      <td>Hats</td>\n",
       "      <td>2star</td>\n",
       "      <td>9157</td>\n",
       "      <td>Cash</td>\n",
       "    </tr>\n",
       "    <tr>\n",
       "      <th>98</th>\n",
       "      <td>26/08/20</td>\n",
       "      <td>10569</td>\n",
       "      <td>Directdeposit</td>\n",
       "      <td>Economy</td>\n",
       "      <td>Male</td>\n",
       "      <td>-2131.0</td>\n",
       "      <td>£ 4118.0053827500005</td>\n",
       "      <td>Pants</td>\n",
       "      <td>5 star</td>\n",
       "      <td>5200</td>\n",
       "      <td>Directdeposit</td>\n",
       "    </tr>\n",
       "  </tbody>\n",
       "</table>\n",
       "</div>"
      ],
      "text/plain": [
       "        Date  CustomerID     PaymentMode ShippingMode       Gender  \\\n",
       "3       None       10474   Directdeposit       Normal       Female   \n",
       "4   24/08/20       10475            None      Economy         Male   \n",
       "27  19/08/20       10498  Direct Deposit      Express  Unspecified   \n",
       "43  14/08/20       10514     Credit Card      Express  Unspecified   \n",
       "59  17/08/20       10530            Cash      Economy       Female   \n",
       "71  20/08/20       10542            Cash         Mail         Male   \n",
       "98  26/08/20       10569   Directdeposit      Economy         Male   \n",
       "\n",
       "    ShippingTime                 Price    ProductType   Rating  Total_Ratings  \\\n",
       "3         2133.0  ₹ 210869.48083470002       dresses     2star           7591   \n",
       "4         2133.0      ₹ 679422.2811434         pantas  1 start           5131   \n",
       "27         213.0     ₹ 635118.07344224  Coats/Jackets   3 star           9297   \n",
       "43        1321.0            € 7,261.79       dresses    5 star           5567   \n",
       "59        3113.0            $8,670.69        Cardigan   4 star           6930   \n",
       "71        3132.0     ₹ 708227.40839738           Hats    2star           9157   \n",
       "98       -2131.0  £ 4118.0053827500005          Pants   5 star           5200   \n",
       "\n",
       "       PaymentMode  \n",
       "3    Directdeposit  \n",
       "4              NaN  \n",
       "27  Direct Deposit  \n",
       "43     Credit Card  \n",
       "59            Cash  \n",
       "71            Cash  \n",
       "98   Directdeposit  "
      ]
     },
     "execution_count": 41,
     "metadata": {},
     "output_type": "execute_result"
    }
   ],
   "source": [
    "# Outlier\n",
    "# less than Q1-1.5*IQR\n",
    "# more than Q3 + 1.5*IQR\n",
    "\n",
    "outlier_lower = (data[\"ShippingTime\"] < (q1 - 1.5 * IQR))\n",
    "outlier_higher =  (data[\"ShippingTime\"] > (q3 + 1.5 * IQR))\n",
    "outlier = data[outlier_lower | outlier_higher]\n",
    "outlier"
   ]
  },
  {
   "cell_type": "code",
   "execution_count": 39,
   "id": "c4a4a0d2",
   "metadata": {},
   "outputs": [
    {
     "data": {
      "text/plain": [
       "0     False\n",
       "1     False\n",
       "2     False\n",
       "3      True\n",
       "4      True\n",
       "      ...  \n",
       "95    False\n",
       "96    False\n",
       "97    False\n",
       "98    False\n",
       "99    False\n",
       "Name: ShippingTime, Length: 98, dtype: bool"
      ]
     },
     "execution_count": 39,
     "metadata": {},
     "output_type": "execute_result"
    }
   ],
   "source": [
    "outlier_higher"
   ]
  },
  {
   "cell_type": "code",
   "execution_count": 42,
   "id": "04e47764",
   "metadata": {},
   "outputs": [
    {
     "data": {
      "text/plain": [
       "Int64Index([3, 4, 27, 43, 59, 71, 98], dtype='int64')"
      ]
     },
     "execution_count": 42,
     "metadata": {},
     "output_type": "execute_result"
    }
   ],
   "source": [
    "outlier.index"
   ]
  },
  {
   "cell_type": "code",
   "execution_count": 43,
   "id": "8001653f",
   "metadata": {},
   "outputs": [],
   "source": [
    "data.drop(outlier.index, axis = 0, inplace=True)"
   ]
  },
  {
   "cell_type": "code",
   "execution_count": 45,
   "id": "ccb3ab55",
   "metadata": {},
   "outputs": [
    {
     "data": {
      "text/plain": [
       "<AxesSubplot:>"
      ]
     },
     "execution_count": 45,
     "metadata": {},
     "output_type": "execute_result"
    },
    {
     "data": {
      "image/png": "[encoded data removed]",
      "text/plain": [
       "<Figure size 432x288 with 1 Axes>"
      ]
     },
     "metadata": {
      "needs_background": "light"
     },
     "output_type": "display_data"
    }
   ],
   "source": [
    "data.boxplot(column=\"ShippingTime\")"
   ]
  },
  {
   "cell_type": "code",
   "execution_count": null,
   "id": "d09d2feb",
   "metadata": {},
   "outputs": [],
   "source": [
    "data.boxplot()"
   ]
  }
 ],
 "metadata": {
  "kernelspec": {
   "display_name": "Python 3 (ipykernel)",
   "language": "python",
   "name": "python3"
  },
  "language_info": {
   "codemirror_mode": {
    "name": "ipython",
    "version": 3
   },
   "file_extension": ".py",
   "mimetype": "text/x-python",
   "name": "python",
   "nbconvert_exporter": "python",
   "pygments_lexer": "ipython3",
   "version": "3.9.7"
  }
 },
 "nbformat": 4,
 "nbformat_minor": 5
}
